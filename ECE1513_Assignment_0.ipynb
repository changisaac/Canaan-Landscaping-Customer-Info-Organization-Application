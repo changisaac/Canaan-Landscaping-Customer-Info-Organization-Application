{
  "nbformat": 4,
  "nbformat_minor": 0,
  "metadata": {
    "colab": {
      "name": "ECE1513 Assignment 0",
      "provenance": [],
      "collapsed_sections": [],
      "toc_visible": true,
      "include_colab_link": true
    },
    "kernelspec": {
      "display_name": "Python 3",
      "name": "python3"
    }
  },
  "cells": [
    {
      "cell_type": "markdown",
      "metadata": {
        "id": "view-in-github",
        "colab_type": "text"
      },
      "source": [
        "<a href=\"https://colab.research.google.com/github/changisaac/Canaan-Landscaping-Customer-Info-Organization-Application/blob/master/ECE1513_Assignment_0.ipynb\" target=\"_parent\"><img src=\"https://colab.research.google.com/assets/colab-badge.svg\" alt=\"Open In Colab\"/></a>"
      ]
    },
    {
      "cell_type": "code",
      "metadata": {
        "colab": {
          "base_uri": "https://localhost:8080/"
        },
        "id": "XV_1mH8_QWwy",
        "outputId": "f21e96a2-7e80-40f9-a92e-11007b075511"
      },
      "source": [
        "# ECE1513 Exercise 0: Preliminary Work\n",
        "\n",
        "# Author: Isaac Chang\n",
        "# Email: is.chang@mail.utoronto.ca\n",
        "# Date: 09/18/2021\n",
        "\n",
        "from typing import List\n",
        "\n",
        "def first_n_primes(n: int) -> List[int]:\n",
        "  \"\"\"Function A: returns a list of the first N primes\"\"\"\n",
        "  # Initialize prime list with smallest (ie. first) prime number\n",
        "  n_primes = [2]\n",
        "  maybe_prime = 3\n",
        "\n",
        "  while len(n_primes) < n:\n",
        "    # Test primality\n",
        "    is_prime = True\n",
        "    for num in range(2, maybe_prime // 2):\n",
        "      if maybe_prime % num == 0:\n",
        "        is_prime = False\n",
        "        break\n",
        "    \n",
        "    if is_prime:\n",
        "      n_primes.append(maybe_prime)\n",
        "\n",
        "    maybe_prime += 1\n",
        "\n",
        "  return n_primes\n",
        "\n",
        "def first_n_fibonacci(n: int) -> List[int]:\n",
        "  \"\"\"Function B: returns a list of the first N Fibonacci numbers\"\"\"\n",
        "  n_fibonacci = []\n",
        "\n",
        "  num_1 = 0\n",
        "  num_2 = 1\n",
        "\n",
        "  while len(n_fibonacci)\n",
        "\n",
        "print(first_n_primes(20))"
      ],
      "execution_count": null,
      "outputs": [
        {
          "output_type": "stream",
          "name": "stdout",
          "text": [
            "[2, 3, 4, 5, 7, 11, 13, 17, 19, 23, 29, 31, 37, 41, 43, 47, 53, 59, 61, 67]\n"
          ]
        }
      ]
    }
  ]
}